{
  "nbformat": 4,
  "nbformat_minor": 0,
  "metadata": {
    "colab": {
      "provenance": []
    },
    "kernelspec": {
      "name": "python3",
      "display_name": "Python 3"
    },
    "language_info": {
      "name": "python"
    }
  },
  "cells": [
    {
      "cell_type": "code",
      "execution_count": 1,
      "metadata": {
        "id": "SL_Ox4nX4GB_"
      },
      "outputs": [],
      "source": [
        "import pandas as pd\n",
        "import numpy as np\n",
        "import matplotlib.pyplot as plt\n",
        "import seaborn as sns"
      ]
    },
    {
      "cell_type": "code",
      "source": [
        "from sklearn.datasets import load_iris"
      ],
      "metadata": {
        "id": "ZdvYTapI4JbR"
      },
      "execution_count": 2,
      "outputs": []
    },
    {
      "cell_type": "code",
      "source": [
        "df=load_iris()\n",
        "X=df.data\n",
        "y=df.target"
      ],
      "metadata": {
        "id": "58DTtolT4JfH"
      },
      "execution_count": 5,
      "outputs": []
    },
    {
      "cell_type": "code",
      "source": [],
      "metadata": {
        "id": "aNQ1RLJ34Jjz"
      },
      "execution_count": 8,
      "outputs": []
    },
    {
      "cell_type": "code",
      "source": [
        "#split the data to train and test\n",
        "from sklearn.model_selection import train_test_split\n",
        "X_train,X_test,y_train,y_test=train_test_split(X,y, test_size=0.3,random_state=42)"
      ],
      "metadata": {
        "id": "vmCtxdVc4Jn4"
      },
      "execution_count": 9,
      "outputs": []
    },
    {
      "cell_type": "code",
      "source": [
        "# the data sent to standradation\n",
        "from sklearn.preprocessing import StandardScaler\n",
        "stand=StandardScaler()\n",
        "X_train=stand.fit_transform(X_train)\n",
        "X_test=stand.fit_transform(X_test)"
      ],
      "metadata": {
        "id": "aVxMkkZw4Js9"
      },
      "execution_count": 10,
      "outputs": []
    },
    {
      "cell_type": "code",
      "source": [
        "from sklearn.ensemble import BaggingClassifier\n",
        "from sklearn.tree import DecisionTreeClassifier\n",
        "from sklearn.neighbors import KNeighborsClassifier\n",
        "from sklearn.svm import SVC\n"
      ],
      "metadata": {
        "id": "nlPAxN_X4Jw0"
      },
      "execution_count": 14,
      "outputs": []
    },
    {
      "cell_type": "code",
      "source": [
        "#base models\n",
        "base_estimators = [\n",
        "    DecisionTreeClassifier(),\n",
        "    KNeighborsClassifier(),\n",
        "    SVC(probability=True)\n",
        "]\n",
        "\n",
        "bagging_classifiers=[]\n",
        "\n",
        "\n",
        "for base_estimator in base_estimators:\n",
        "    bagging_clf = BaggingClassifier(base_estimator=base_estimator, n_estimators=10, random_state=42)\n",
        "    bagging_classifiers.append(bagging_clf)"
      ],
      "metadata": {
        "id": "SDE6IQWt4J0I"
      },
      "execution_count": 32,
      "outputs": []
    },
    {
      "cell_type": "code",
      "source": [
        "bagging_classifiers"
      ],
      "metadata": {
        "colab": {
          "base_uri": "https://localhost:8080/"
        },
        "id": "HnycEjeh4J33",
        "outputId": "de30098b-60ad-4b34-bbe0-f66676fc169c"
      },
      "execution_count": 33,
      "outputs": [
        {
          "output_type": "execute_result",
          "data": {
            "text/plain": [
              "[BaggingClassifier(base_estimator=DecisionTreeClassifier(), random_state=42),\n",
              " BaggingClassifier(base_estimator=KNeighborsClassifier(), random_state=42),\n",
              " BaggingClassifier(base_estimator=SVC(probability=True), random_state=42)]"
            ]
          },
          "metadata": {},
          "execution_count": 33
        }
      ]
    },
    {
      "cell_type": "code",
      "source": [
        "for i, bagging_clf in enumerate(bagging_classifiers):\n",
        "    # Train the classifier\n",
        "    bagging_clf.fit(X_train, y_train)\n",
        "\n",
        "    # Make predictions on the test set\n",
        "    y_pred = bagging_clf.predict(X_test)\n",
        "\n",
        "    # Calculate the accuracy\n",
        "    accuracy = accuracy_score(y_test, y_pred)\n",
        "\n",
        "    # Print the base estimator name and its accuracy\n",
        "    print(f\"{base_estimators[i].__class__.__name__}: {accuracy:.4f}\")"
      ],
      "metadata": {
        "colab": {
          "base_uri": "https://localhost:8080/"
        },
        "id": "IY_QHocS4J9R",
        "outputId": "a37a9a8e-788f-413d-dfc4-ffea9a086c5b"
      },
      "execution_count": 34,
      "outputs": [
        {
          "output_type": "stream",
          "name": "stdout",
          "text": [
            "DecisionTreeClassifier: 0.9111\n",
            "KNeighborsClassifier: 0.9556\n",
            "SVC: 0.9556\n"
          ]
        },
        {
          "output_type": "stream",
          "name": "stderr",
          "text": [
            "/usr/local/lib/python3.10/dist-packages/sklearn/ensemble/_base.py:166: FutureWarning: `base_estimator` was renamed to `estimator` in version 1.2 and will be removed in 1.4.\n",
            "  warnings.warn(\n",
            "/usr/local/lib/python3.10/dist-packages/sklearn/ensemble/_base.py:166: FutureWarning: `base_estimator` was renamed to `estimator` in version 1.2 and will be removed in 1.4.\n",
            "  warnings.warn(\n",
            "/usr/local/lib/python3.10/dist-packages/sklearn/ensemble/_base.py:166: FutureWarning: `base_estimator` was renamed to `estimator` in version 1.2 and will be removed in 1.4.\n",
            "  warnings.warn(\n"
          ]
        }
      ]
    },
    {
      "cell_type": "code",
      "source": [],
      "metadata": {
        "id": "k5lCs-UO4KCu"
      },
      "execution_count": 40,
      "outputs": []
    },
    {
      "cell_type": "code",
      "source": [
        "# Storage for individual predictions and accuracies\n",
        "predictions = []\n",
        "\n",
        "\n",
        "# Train and evaluate each bagging classifier\n",
        "for i, bagging_clf in enumerate(bagging_classifiers):\n",
        "    # Train the classifier\n",
        "    bagging_clf.fit(X_train, y_train)\n",
        "\n",
        "    # Make predictions on the test set\n",
        "    y_pred = bagging_clf.predict(X_test)\n",
        "\n",
        "    # Store predictions\n",
        "    predictions.append(y_pred)\n",
        "\n",
        "    # Calculate the accuracy\n",
        "    accuracy = accuracy_score(y_test, y_pred)\n",
        "\n",
        "    # Store accuracy\n",
        "    accuracies.append(accuracy)\n",
        "\n",
        "    # Print the base estimator name and its accuracy\n",
        "    print(f\"{base_estimators[i]}: {accuracy:.4f}\")\n",
        "\n",
        "# Print individual accuracies\n",
        "print(\"\\nIndividual Accuracies:\")\n",
        "for i, accuracy in enumerate(accuracies):\n",
        "    print(f\"{base_estimators[i]}: {accuracy:.4f}\")\n"
      ],
      "metadata": {
        "colab": {
          "base_uri": "https://localhost:8080/"
        },
        "id": "JEIm0_2K4KFj",
        "outputId": "d827f222-7df5-4645-aee6-67739eaa2c1e"
      },
      "execution_count": 49,
      "outputs": [
        {
          "output_type": "stream",
          "name": "stdout",
          "text": [
            "DecisionTreeClassifier(): 0.9111\n",
            "KNeighborsClassifier(): 0.9556\n",
            "SVC(probability=True): 0.9556\n",
            "\n",
            "Individual Accuracies:\n",
            "DecisionTreeClassifier(): 0.9111\n",
            "KNeighborsClassifier(): 0.9556\n",
            "SVC(probability=True): 0.9556\n"
          ]
        },
        {
          "output_type": "stream",
          "name": "stderr",
          "text": [
            "/usr/local/lib/python3.10/dist-packages/sklearn/ensemble/_base.py:166: FutureWarning: `base_estimator` was renamed to `estimator` in version 1.2 and will be removed in 1.4.\n",
            "  warnings.warn(\n",
            "/usr/local/lib/python3.10/dist-packages/sklearn/ensemble/_base.py:166: FutureWarning: `base_estimator` was renamed to `estimator` in version 1.2 and will be removed in 1.4.\n",
            "  warnings.warn(\n",
            "/usr/local/lib/python3.10/dist-packages/sklearn/ensemble/_base.py:166: FutureWarning: `base_estimator` was renamed to `estimator` in version 1.2 and will be removed in 1.4.\n",
            "  warnings.warn(\n"
          ]
        }
      ]
    },
    {
      "cell_type": "code",
      "source": [
        "# Print individual accuracies\n",
        "print(\"\\nIndividual Accuracies:\")\n",
        "for i, accuracy in enumerate(accuracies):\n",
        "    print(f\"{base_estimators[i]}: {accuracy:.4f}\")\n",
        "\n",
        "# Aggregate the final output using majority vote for classification\n",
        "predictions = np.array(predictions)\n",
        "final_predictions = mode(predictions, axis=0).mode[0]\n",
        "\n",
        "predictions\n"
      ],
      "metadata": {
        "colab": {
          "base_uri": "https://localhost:8080/"
        },
        "id": "7y4LC0S94KJH",
        "outputId": "95012022-8f76-4ff7-e3f7-0d32ab782399"
      },
      "execution_count": 52,
      "outputs": [
        {
          "output_type": "stream",
          "name": "stdout",
          "text": [
            "\n",
            "Individual Accuracies:\n",
            "DecisionTreeClassifier(): 0.9111\n",
            "KNeighborsClassifier(): 0.9556\n",
            "SVC(probability=True): 0.9556\n"
          ]
        },
        {
          "output_type": "execute_result",
          "data": {
            "text/plain": [
              "array([[2, 0, 2, 2, 2, 0, 1, 2, 2, 1, 2, 0, 0, 0, 0, 1, 2, 1, 1, 2, 0, 2,\n",
              "        0, 2, 2, 2, 2, 2, 0, 0, 0, 0, 1, 0, 0, 2, 1, 0, 0, 0, 2, 1, 1, 0,\n",
              "        0],\n",
              "       [1, 0, 2, 2, 1, 0, 1, 2, 1, 1, 2, 0, 0, 0, 0, 2, 2, 1, 1, 2, 0, 2,\n",
              "        0, 2, 2, 2, 2, 2, 0, 0, 0, 0, 1, 0, 0, 2, 1, 0, 0, 0, 2, 1, 1, 0,\n",
              "        0],\n",
              "       [1, 0, 2, 1, 1, 0, 1, 2, 2, 1, 2, 0, 0, 0, 0, 2, 2, 1, 1, 2, 0, 2,\n",
              "        0, 2, 2, 2, 2, 2, 0, 0, 0, 0, 1, 0, 0, 2, 1, 0, 0, 0, 2, 1, 1, 0,\n",
              "        0]])"
            ]
          },
          "metadata": {},
          "execution_count": 52
        }
      ]
    },
    {
      "cell_type": "code",
      "source": [],
      "metadata": {
        "id": "g8bgdlPo4KMH"
      },
      "execution_count": null,
      "outputs": []
    },
    {
      "cell_type": "code",
      "source": [],
      "metadata": {
        "id": "95aFJfWx4KPU"
      },
      "execution_count": null,
      "outputs": []
    }
  ]
}